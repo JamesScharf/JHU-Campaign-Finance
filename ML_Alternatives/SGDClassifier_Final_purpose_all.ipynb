{
 "cells": [
  {
   "cell_type": "code",
   "execution_count": 4,
   "metadata": {},
   "outputs": [],
   "source": [
    "import SGDClassifier\n",
    "import pandas as pd\n",
    "purposeCodes = pd.read_csv(\"C:/Users/schar/Documents/PoliSciResearch/rawdata/purpose_all.csv\")"
   ]
  },
  {
   "cell_type": "code",
   "execution_count": 5,
   "metadata": {},
   "outputs": [],
   "source": [
    "#lint some of the weird number stuff\n",
    "purposeCodes[\"Linted_Pur\"] = purposeCodes[\"purposefix\"].str.replace(\"\\d+\", \"\")"
   ]
  },
  {
   "cell_type": "code",
   "execution_count": 6,
   "metadata": {},
   "outputs": [],
   "source": [
    "purposeCodes[\"category\"] = purposeCodes[\"Linted_Pur\"].astype(str).apply(SGDClassifier.categorizePhrase)"
   ]
  },
  {
   "cell_type": "code",
   "execution_count": 7,
   "metadata": {},
   "outputs": [],
   "source": [
    "purposeCodes.to_csv(\"SGD_purpose_all.csv\")"
   ]
  }
 ],
 "metadata": {
  "kernelspec": {
   "display_name": "Python 3",
   "language": "python",
   "name": "python3"
  },
  "language_info": {
   "codemirror_mode": {
    "name": "ipython",
    "version": 3
   },
   "file_extension": ".py",
   "mimetype": "text/x-python",
   "name": "python",
   "nbconvert_exporter": "python",
   "pygments_lexer": "ipython3",
   "version": "3.7.6"
  }
 },
 "nbformat": 4,
 "nbformat_minor": 4
}
