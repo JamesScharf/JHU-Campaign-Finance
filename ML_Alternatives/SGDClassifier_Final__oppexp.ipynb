{
 "cells": [
  {
   "cell_type": "code",
   "execution_count": 1,
   "metadata": {},
   "outputs": [],
   "source": [
    "import SGDClassifier\n",
    "import pandas as pd\n",
    "purposeCodes = pd.read_stata(\"C:/Users/schar/Documents/PoliSciResearch/rawdata/oppexp10_16nameclean.dta\")"
   ]
  },
  {
   "cell_type": "code",
   "execution_count": 2,
   "metadata": {},
   "outputs": [
    {
     "name": "stdout",
     "output_type": "stream",
     "text": [
      "Index(['name', 'namefix3', 'cmte_id', 'amndt_ind', 'rpt_yr', 'rpt_tp',\n",
      "       'image_num', 'line_num', 'form_tp_cd', 'sched_tp_cd', 'city', 'state',\n",
      "       'zip_code', 'zip5', 'transaction_dt', 'transaction_amt',\n",
      "       'transaction_pgi', 'purpose', 'category', 'category_desc', 'memo_cd',\n",
      "       'memo_text', 'entity_tp', 'sub_id', 'file_num', 'tran_id',\n",
      "       'back_ref_tran_id', 'election', 'memo', 'date'],\n",
      "      dtype='object')\n"
     ]
    }
   ],
   "source": [
    "print(purposeCodes.columns)"
   ]
  },
  {
   "cell_type": "code",
   "execution_count": 3,
   "metadata": {},
   "outputs": [],
   "source": [
    "#lint some of the weird number stuff\n",
    "purposeCodes[\"Linted_Pur\"] = purposeCodes[\"purpose\"].str.replace(\"\\d+\", \"\")"
   ]
  },
  {
   "cell_type": "code",
   "execution_count": 4,
   "metadata": {},
   "outputs": [],
   "source": [
    "purposeCodes[\"category\"] = purposeCodes[\"Linted_Pur\"].astype(str).apply(SGDClassifier.categorizePhrase)"
   ]
  },
  {
   "cell_type": "code",
   "execution_count": 5,
   "metadata": {},
   "outputs": [],
   "source": [
    "purposeCodes.to_csv(\"SGD_oppexp10_16nameclean.csv\")"
   ]
  }
 ],
 "metadata": {
  "kernelspec": {
   "display_name": "Python 3",
   "language": "python",
   "name": "python3"
  },
  "language_info": {
   "codemirror_mode": {
    "name": "ipython",
    "version": 3
   },
   "file_extension": ".py",
   "mimetype": "text/x-python",
   "name": "python",
   "nbconvert_exporter": "python",
   "pygments_lexer": "ipython3",
   "version": "3.7.6"
  }
 },
 "nbformat": 4,
 "nbformat_minor": 4
}
