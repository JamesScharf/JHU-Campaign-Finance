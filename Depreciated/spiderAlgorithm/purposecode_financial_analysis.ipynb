{
 "cells": [
  {
   "cell_type": "code",
   "execution_count": 1,
   "metadata": {},
   "outputs": [],
   "source": [
    "import pickle\n",
    "import pandas as pd\n",
    "import random\n",
    "import numpy as np\n",
    "pd.set_option('display.max_columns', None)\n",
    "np.set_printoptions(suppress=True)\n",
    "pd.set_option('display.float_format', lambda x: '%.2f' % x)"
   ]
  },
  {
   "cell_type": "code",
   "execution_count": 14,
   "metadata": {},
   "outputs": [
    {
     "name": "stdout",
     "output_type": "stream",
     "text": [
      "Reading in purposecodes.csv into purposeCodeDataFrame\n",
      "purposecodes.csv read\n",
      "Number Unique: 13353\n",
      "PurposeCode DF Shape: (399352, 25)\n"
     ]
    }
   ],
   "source": [
    "print(\"Reading in purposecodes.csv into purposeCodeDataFrame\")\n",
    "# getting the purpose codes\n",
    "purposeCodeDataFrame = pd.read_csv(\"../rawdata/purposecodes.csv\")\n",
    "# getting all the unique purposecodes\n",
    "purposeCodeUnique = purposeCodeDataFrame.pur.unique()\n",
    "# size\n",
    "uniqueSize = len(purposeCodeUnique)\n",
    "print(\"purposecodes.csv read\")\n",
    "print(\"Number Unique: \" + str(uniqueSize))\n",
    "print(\"PurposeCode DF Shape: \" + str(purposeCodeDataFrame.shape))"
   ]
  },
  {
   "cell_type": "code",
   "execution_count": 16,
   "metadata": {},
   "outputs": [
    {
     "name": "stdout",
     "output_type": "stream",
     "text": [
      "Data Fram Shape: (399352, 25)\n",
      "Total counted purposeCodes: 399284\n",
      "Missing Values: 68\n",
      "\n",
      "Occurance Shape: (13352, 1)\n",
      "Percentage occurance per purposecode:\n"
     ]
    },
    {
     "data": {
      "text/html": [
       "<div>\n",
       "<style scoped>\n",
       "    .dataframe tbody tr th:only-of-type {\n",
       "        vertical-align: middle;\n",
       "    }\n",
       "\n",
       "    .dataframe tbody tr th {\n",
       "        vertical-align: top;\n",
       "    }\n",
       "\n",
       "    .dataframe thead th {\n",
       "        text-align: right;\n",
       "    }\n",
       "</style>\n",
       "<table border=\"1\" class=\"dataframe\">\n",
       "  <thead>\n",
       "    <tr style=\"text-align: right;\">\n",
       "      <th></th>\n",
       "      <th>pur</th>\n",
       "    </tr>\n",
       "  </thead>\n",
       "  <tbody>\n",
       "    <tr>\n",
       "      <th>SALARY AND BENEFITS</th>\n",
       "      <td>0.42</td>\n",
       "    </tr>\n",
       "    <tr>\n",
       "      <th>RENTAL VAN</th>\n",
       "      <td>0.08</td>\n",
       "    </tr>\n",
       "    <tr>\n",
       "      <th>PER DIEM</th>\n",
       "      <td>0.04</td>\n",
       "    </tr>\n",
       "    <tr>\n",
       "      <th>LODGING</th>\n",
       "      <td>0.04</td>\n",
       "    </tr>\n",
       "    <tr>\n",
       "      <th>SALARY</th>\n",
       "      <td>0.03</td>\n",
       "    </tr>\n",
       "  </tbody>\n",
       "</table>\n",
       "</div>"
      ],
      "text/plain": [
       "                     pur\n",
       "SALARY AND BENEFITS 0.42\n",
       "RENTAL VAN          0.08\n",
       "PER DIEM            0.04\n",
       "LODGING             0.04\n",
       "SALARY              0.03"
      ]
     },
     "execution_count": 16,
     "metadata": {},
     "output_type": "execute_result"
    }
   ],
   "source": [
    "# getting most often occuring purpose codes\n",
    "counts = purposeCodeDataFrame.pur.value_counts() # getting counts per each\n",
    "freq = counts.as_matrix() # all the counts in an array\n",
    "counts = counts / np.sum(freq) # get the total sum\n",
    "print(\"Data Fram Shape: \" + str(purposeCodeDataFrame.shape))\n",
    "print(\"Total counted purposeCodes: \" + str(np.sum(freq)))\n",
    "print(\"Missing Values: \" + str(purposeCodeDataFrame.shape[0] - np.sum(freq)))\n",
    "print()\n",
    "counts_DF = counts.to_frame()\n",
    "#counts_DF.to_csv(\"purposeCodeFrequency.csv\")\n",
    "print(\"Occurance Shape: \" + str(counts_DF.shape))\n",
    "print(\"Percentage occurance per purposecode:\")\n",
    "counts_DF.head()"
   ]
  },
  {
   "cell_type": "code",
   "execution_count": 32,
   "metadata": {},
   "outputs": [
    {
     "name": "stdout",
     "output_type": "stream",
     "text": [
      "Total money accounted for: 4554706972.773397\n"
     ]
    },
    {
     "data": {
      "text/html": [
       "<div>\n",
       "<style scoped>\n",
       "    .dataframe tbody tr th:only-of-type {\n",
       "        vertical-align: middle;\n",
       "    }\n",
       "\n",
       "    .dataframe tbody tr th {\n",
       "        vertical-align: top;\n",
       "    }\n",
       "\n",
       "    .dataframe thead th {\n",
       "        text-align: right;\n",
       "    }\n",
       "</style>\n",
       "<table border=\"1\" class=\"dataframe\">\n",
       "  <thead>\n",
       "    <tr style=\"text-align: right;\">\n",
       "      <th></th>\n",
       "      <th>exp_amo</th>\n",
       "    </tr>\n",
       "    <tr>\n",
       "      <th>pur</th>\n",
       "      <th></th>\n",
       "    </tr>\n",
       "  </thead>\n",
       "  <tbody>\n",
       "    <tr>\n",
       "      <th>MEDIA BUY</th>\n",
       "      <td>725608123.97</td>\n",
       "    </tr>\n",
       "    <tr>\n",
       "      <th>MEDIA</th>\n",
       "      <td>346023431.83</td>\n",
       "    </tr>\n",
       "    <tr>\n",
       "      <th>MEDIA PLACEMENT</th>\n",
       "      <td>310371139.77</td>\n",
       "    </tr>\n",
       "    <tr>\n",
       "      <th>TV / MEDIA PLACEMENT</th>\n",
       "      <td>246585721.74</td>\n",
       "    </tr>\n",
       "    <tr>\n",
       "      <th>TELEVISION ADVERTISING</th>\n",
       "      <td>149865853.38</td>\n",
       "    </tr>\n",
       "  </tbody>\n",
       "</table>\n",
       "</div>"
      ],
      "text/plain": [
       "                            exp_amo\n",
       "pur                                \n",
       "MEDIA BUY              725608123.97\n",
       "MEDIA                  346023431.83\n",
       "MEDIA PLACEMENT        310371139.77\n",
       "TV / MEDIA PLACEMENT   246585721.74\n",
       "TELEVISION ADVERTISING 149865853.38"
      ]
     },
     "execution_count": 32,
     "metadata": {},
     "output_type": "execute_result"
    }
   ],
   "source": [
    "summedPC_DF = purposeCodeDataFrame.groupby(['pur'])[[\"exp_amo\"]].sum()\n",
    "print(\"Total money accounted for: \" + str(purposeCodeDataFrame['exp_amo'].sum()))\n",
    "\n",
    "#print(purposeCodeDataFrame.loc[purposeCodeDataFrame['pur'] == \"MEDIA BUY\"]['exp_amo'].sum())\n",
    "#print(purposeCodeDataFrame['pur'])\n",
    "summedPC_DF = summedPC_DF.sort_values(\"exp_amo\", ascending = False)\n",
    "summedPC_DF.head()"
   ]
  },
  {
   "cell_type": "code",
   "execution_count": 7,
   "metadata": {
    "scrolled": true
   },
   "outputs": [
    {
     "name": "stdout",
     "output_type": "stream",
     "text": [
      "                                  exp_amo\n",
      "pur                                      \n",
      " EQUIPMENT                         567.50\n",
      " MULTIMEDIA ONLINE ADS           17000.00\n",
      " POSTAGE / PRINTING / PRODUCTION 59880.05\n",
      " POSTAGE /PRINTING / PRODUCTION  60787.42\n",
      " TV / AD PRODUCTION              13568.72\n",
      "                                  pur\n",
      " EQUIPMENT                       0.00\n",
      " MULTIMEDIA ONLINE ADS           0.00\n",
      " POSTAGE / PRINTING / PRODUCTION 0.00\n",
      " POSTAGE /PRINTING / PRODUCTION  0.00\n",
      " TV / AD PRODUCTION              0.00\n",
      "<bound method NDFrame.head of                                                         exp_amo  pur\n",
      "pur                                                                 \n",
      "SALARY AND BENEFITS                                  6697957.59 0.42\n",
      "RENTAL VAN                                            455052.48 0.08\n",
      "PER DIEM                                              167532.88 0.04\n",
      "LODGING                                               411139.07 0.04\n",
      "SALARY                                               1094015.20 0.03\n",
      "SALARY AND BENFITS                                    700022.27 0.03\n",
      "GAS                                                   117085.94 0.03\n",
      "MILEAGE                                               174708.52 0.02\n",
      "IN KIND STAFF                                        4644332.42 0.02\n",
      "MEDIA BUY                                          725608123.97 0.01\n",
      "MEDIA                                              346023431.83 0.01\n",
      "RENT                                                   71305.96 0.01\n",
      "MEDIA PRODUCTION                                    24524071.35 0.01\n",
      "PRINTING                                             4015790.23 0.00\n",
      "VOTER CONTACT MAIL                                   6711139.68 0.00\n",
      "INKIND STAFF                                          648872.29 0.00\n",
      "PAYROLL                                               455389.02 0.00\n",
      "ONLINE ADVERTISING                                  33590133.67 0.00\n",
      "CANVASSING                                           9692705.84 0.00\n",
      "VOTER CONTACT CALLS                                  2645623.43 0.00\n",
      "WALK PACKETS                                          105216.86 0.00\n",
      "CANVASS PAYROLL                                       284497.79 0.00\n",
      "DIRECT MAIL                                         35142368.60 0.00\n",
      "MEDIA PLACEMENT                                    310371139.77 0.00\n",
      "PHONE CALLS                                          9729871.41 0.00\n",
      "TELEVISION ADVERTISING                             149865853.38 0.00\n",
      "POSTAGE                                              9793276.85 0.00\n",
      "FLIERS                                                841518.07 0.00\n",
      "TRAVEL                                                294071.55 0.00\n",
      "RADIO ADS                                            5436255.03 0.00\n",
      "...                                                         ...  ...\n",
      "INTERENET ADVERTISING & WEBSITE                        59909.09 0.00\n",
      "INTERENET ADVERTISINIG & WEBSITE                       59909.09 0.00\n",
      "INTERENET COMMUNICATIONS (FROM ADVANCE LINE 21)           33.23 0.00\n",
      "INTERNET ACCESS                                            0.65 0.00\n",
      "INK AND CARD STOCK FOR WALK PIECES                       150.00 0.00\n",
      "INTERNET AD & TV AD GREED                            1000000.00 0.00\n",
      "INTERNET AD - CANDIDATE SPECIFIC                        9000.00 0.00\n",
      "INTERNET AD BUY AND PRODUCTION COSTS                   94000.00 0.00\n",
      "INTERNET AD ON FACEBOOK                                  395.75 0.00\n",
      "INTERNET AD PRODUCTION COSTS (PULL FROM ADVANCE...       471.87 0.00\n",
      "INTERNET AD-DISSEMINATED 10/22-11/6/2012               45000.00 0.00\n",
      "INKIND - MEDIA PRODUCTION                               1500.00 0.00\n",
      "INITIAL BUSINESS REPLY MAIL PAYMENT                     2800.00 0.00\n",
      "INDEPENDENT EXPENDITURE - POSTCARDS (EST                 980.14 0.00\n",
      "INDEPENDENT EXPENDITURE OPPOSING DONALD TROMP           1808.00 0.00\n",
      "INDEPENDENT EXPENDITURE - RADIO                        53500.00 0.00\n",
      "INDEPENDENT EXPENDITURE - RADIO BUY - REP. RAUL...     75000.00 0.00\n",
      "INDEPENDENT EXPENDITURE - RADIO/MAIL                   25000.00 0.00\n",
      "INDEPENDENT EXPENDITURE - RADIO/MAIL/TELEPHONES...     25000.00 0.00\n",
      "INDEPENDENT EXPENDITURE - RADIO/PRINT                  25000.00 0.00\n",
      "INDEPENDENT EXPENDITURE - SALARY / BENEF                1115.76 0.00\n",
      "INDEPENDENT EXPENDITURE RADIO BUY                       2700.00 0.00\n",
      "INFORMATION TECHNOLOGY SEVICES FOR GROUND CAMPA...     12000.00 0.00\n",
      "INDEPENDENT EXPENDITURE: EMAILS                         2514.40 0.00\n",
      "INDEPENDENT EXPENDITURE: RADIO AD                       2005.00 0.00\n",
      "INDEPENDENT EXPENDITURE: RADIO ADVERTSIN               17000.00 0.00\n",
      "INDEPENDENT EXPENTURE - RADIO                          25000.00 0.00\n",
      "INDEPENDENT MAILER                                      4243.20 0.00\n",
      "INFOGRAPHICS                                            1000.00 0.00\n",
      "YOUTUBE VIDEOS                                           120.00 0.00\n",
      "\n",
      "[13352 rows x 2 columns]>\n"
     ]
    }
   ],
   "source": [
    "# we have the summed cost (summedPC)\n",
    "# and the frequency\n",
    "# to merge, we will order both alphabetically by the purpose code, and then concatinate\n",
    "\n",
    "# both are series objects\n",
    "summedPC_S = summedPC_DF.squeeze()\n",
    "counts_S = counts_DF.squeeze()\n",
    "\n",
    "# sort both alphabetically\n",
    "summedPC_S = summedPC_S.sort_index()\n",
    "counts_S = counts_S.sort_index()\n",
    "\n",
    "# back to DF\n",
    "summedPC_DF = summedPC_S.to_frame()\n",
    "counts_DF = counts_S.to_frame()\n",
    "\n",
    "print(summedPC_DF.head())\n",
    "print(counts_DF.head())\n",
    "\n",
    "# concating the dfs together\n",
    "pc = pd.concat([summedPC_DF, counts_DF], axis = 1)\n",
    "# sorting by number of occurances\n",
    "pc = pc.sort_values(\"pur\", ascending = False)\n",
    "\n",
    "print(pc.head)\n",
    "\n",
    "#OUTPUT IS A CSV file sorted by money, with three columns\n",
    "# the name of the purpose code, the amount with it (exp_amo) and the percentage (pur)\n",
    "\n",
    "pc.to_csv(\"purposeCodeFrequencyAndDollars.csv\")"
   ]
  },
  {
   "cell_type": "code",
   "execution_count": null,
   "metadata": {},
   "outputs": [],
   "source": []
  }
 ],
 "metadata": {
  "kernelspec": {
   "display_name": "Python 3",
   "language": "python",
   "name": "python3"
  },
  "language_info": {
   "codemirror_mode": {
    "name": "ipython",
    "version": 3
   },
   "file_extension": ".py",
   "mimetype": "text/x-python",
   "name": "python",
   "nbconvert_exporter": "python",
   "pygments_lexer": "ipython3",
   "version": "3.6.2"
  }
 },
 "nbformat": 4,
 "nbformat_minor": 2
}
