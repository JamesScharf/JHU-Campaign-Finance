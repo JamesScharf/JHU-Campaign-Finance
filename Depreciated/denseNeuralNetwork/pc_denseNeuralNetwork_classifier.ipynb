{
 "cells": [
  {
   "cell_type": "markdown",
   "metadata": {},
   "source": [
    "# Purpose Code DL NN"
   ]
  },
  {
   "cell_type": "markdown",
   "metadata": {},
   "source": [
    "## Importing relavent packages"
   ]
  },
  {
   "cell_type": "code",
   "execution_count": 21,
   "metadata": {},
   "outputs": [],
   "source": [
    "import pandas as pd\n",
    "import tensorflow as tf\n",
    "import numpy as np\n",
    "import matplotlib.pyplot as plt\n",
    "from gensim.models import word2vec as w2v\n",
    "from sklearn.feature_extraction import text\n",
    "import string\n",
    "import sys\n",
    "\n",
    "%matplotlib inline\n",
    "np.set_printoptions(threshold=sys.maxsize)"
   ]
  },
  {
   "cell_type": "markdown",
   "metadata": {},
   "source": [
    "## Reading in data"
   ]
  },
  {
   "cell_type": "code",
   "execution_count": 22,
   "metadata": {},
   "outputs": [
    {
     "name": "stdout",
     "output_type": "stream",
     "text": [
      "Labeled Data for Training\n",
      "   Unnamed: 0            Purpose Code Categorization\n",
      "0           0               MEDIA BUY          media\n",
      "1           1                   MEDIA          media\n",
      "2           2         MEDIA PLACEMENT          media\n",
      "3           3    TV / MEDIA PLACEMENT          media\n",
      "4           4  TELEVISION ADVERTISING          media\n",
      "\n",
      "Classification Data\n",
      "                    purposefix  exp_amo  transaction_amt  purp_id  source  \\\n",
      "0  \\tCOMMUNICATIONS CONSULTING      NaN      4000.000000    15834  oppexp   \n",
      "1               \\tPAC BANK FEE      NaN        40.000000    15835  oppexp   \n",
      "2            0 LODGING EXPENSE      NaN       320.510010    15836  oppexp   \n",
      "3                           00      NaN      1462.119995    15837  oppexp   \n",
      "4                     00000000      NaN         4.950000    15838  oppexp   \n",
      "\n",
      "        total  \n",
      "0  4000.00000  \n",
      "1    40.00000  \n",
      "2   320.51001  \n",
      "3  1462.12000  \n",
      "4     4.95000  \n"
     ]
    }
   ],
   "source": [
    "df_train = pd.read_csv(\"C:/Users/schar/Documents/PoliSciResearch/vars/comboTraining.csv\")\n",
    "print(\"Labeled Data for Training\")\n",
    "print(df_train.head())\n",
    "print()\n",
    "\n",
    "df_classify = pd.read_csv(\"C:/Users/schar/Documents/PoliSciResearch/rawdata/purpose10_18.csv\")\n",
    "print(\"Classification Data\")\n",
    "print(df_classify.head())\n"
   ]
  },
  {
   "cell_type": "markdown",
   "metadata": {},
   "source": [
    "## Cleaning PC for training"
   ]
  },
  {
   "cell_type": "code",
   "execution_count": 23,
   "metadata": {},
   "outputs": [
    {
     "name": "stdout",
     "output_type": "stream",
     "text": [
      "cleaning purposecodes\n",
      "purposecodes cleaned\n"
     ]
    }
   ],
   "source": [
    "print(\"cleaning purposecodes\")\n",
    "purposeCodes = df_train[\"Purpose Code\"].values\n",
    "labels = df_train[\"Categorization\"].values\n",
    "# lowercase\n",
    "purposeCodes = np.array([x.lower() for x in purposeCodes])\n",
    "# remove punctuation\n",
    "purposeCodes = np.array([x.translate(str.maketrans('', '', string.punctuation)) for x in purposeCodes])\n",
    "# remove digits\n",
    "purposeCodes = np.array([x.translate(str.maketrans('', '', string.digits)) for x in purposeCodes])\n",
    "count = 0\n",
    "print(\"purposecodes cleaned\")"
   ]
  },
  {
   "cell_type": "markdown",
   "metadata": {},
   "source": [
    "## Getting the array of words for Spider (optional next step)"
   ]
  },
  {
   "cell_type": "code",
   "execution_count": 24,
   "metadata": {},
   "outputs": [],
   "source": [
    "import json\n",
    "spiderwords = []\n",
    "with open(\"../vars/categories.json\", \"r\") as catwords:\n",
    "    data = json.load(catwords)\n",
    "    for key in data.keys():\n",
    "        spiderwords.extend(data[key])"
   ]
  },
  {
   "cell_type": "code",
   "execution_count": 25,
   "metadata": {},
   "outputs": [
    {
     "name": "stdout",
     "output_type": "stream",
     "text": [
      "['art', 'media', 'newspaper', 'advertising', 'ad', 'advert', 'tv', 'news', 'communications', 'radio', 'television', 'tv ad', 'media buy', 'buy', 'production', 'media placement', 'television advertising', 'and media', 'placement', 'ad production', 'television production', 'tv advertising', 'media production', 'tv ads', 'ad buy', 'radio ad', 'ad placement', 'production costs', 'tv advertisement', 'production', 'buy', 'ad air', 'air buy', 'email', 'software', 'digital', 'digital advertising', 'online advertising', 'social media', 'internet communications', 'web advertising', 'adwords', 'google ad words', 'advertising - internet', 'advertising - online', 'web ad', 'digital ad', 'social media', 'facebook', 'twitter', 'internet', 'web', 'online', 'data software', 'software', 'email', 'social', 'google', 'and digital', 'digital media', 'digital ad', 'media buy', 'internet advertising', 'and online', 'web ad', 'advertising', 'and production', 'media placement', 'ad buy', 'advertising buy', 'media supporting', 'ad placement', 'advertising tv', 'media opposing', 'polling', 'surveys', 'research', 'survey', 'opinion', 'phone bank', 'phone banks', 'banks polling', 'polling phone', 'phone banking', 'banking telephone', 'telephone voter', 'voter contact', 'contact phone', 'bank polling', 'polling expenses', 'expenses phone', 'bank', 'estimate', 'survey', 'legal', 'lawyers', 'law', 'accounting', 'compliance', 'finance', 'bank', 'other trading', 'trading asset', 'field', 'canvassing', 'canvass', 'contact', 'gotv', 'voter contact', 'gotv phone calls', 'door hangers', 'canvass-related', 'salary', 'expenses from', 'canvassing services', 'contact calls', 'contact mail', 'contact phones', 'phone calls', 'door to', 'services for', 'in-kind', 'list rental', 'calls', 'outbound voter', 'consulting', 'consulting', 'consultant', 'retainer', 'consult', 'campaign consulting', 'field campaign', 'consulting research', 'research', 'buy consultants', 'analytics', 'purchase consulting', 'fees', 'administrative', 'paper', 'admin', 'telecom', 'salary', 'phone', 'cater', 'beverage', 'air', 'airline', 'travel', 'gas', 'postage', 'management', 'manager', 'food', 'refreshments', 'mail piece', 'printing', 'postcards', 'mail production', 'postage printing', 'phone calls', 'salary', 'staff printing', 'mailer', 'postage', 'costs', 'printing', 'fundraising', 'telemarket', 'direct mail', 'mail', 'postage', 'mail production', 'mail direct', 'services direct', 'mail costs', 'postage telemarketing', 'telemarketing fundraiser', 'fundraiser', 'dissemination']\n",
      "Length:  180\n"
     ]
    }
   ],
   "source": [
    "print(spiderwords)\n",
    "print(\"Length: \", len(spiderwords))"
   ]
  },
  {
   "cell_type": "markdown",
   "metadata": {},
   "source": [
    "# Cleaning PC for classification"
   ]
  },
  {
   "cell_type": "code",
   "execution_count": 26,
   "metadata": {},
   "outputs": [
    {
     "name": "stdout",
     "output_type": "stream",
     "text": [
      "cleaning purposecodes for classification\n",
      "purposecodes cleaned\n"
     ]
    }
   ],
   "source": [
    "print(\"cleaning purposecodes for classification\")\n",
    "purposeCodes_classify = df_classify[\"purposefix\"].values\n",
    "purposeCodes_classify = purposeCodes_classify.astype('str')\n",
    "# lowercase\n",
    "purposeCodes_classify = np.array([x.lower() for x in purposeCodes_classify])\n",
    "# remove punctuation\n",
    "purposeCodes_classify = np.array([x.translate(str.maketrans('', '', string.punctuation)) for x in purposeCodes_classify])\n",
    "# remove digits\n",
    "purposeCodes_classify = np.array([x.translate(str.maketrans('', '', string.digits)) for x in purposeCodes_classify])\n",
    "count = 0\n",
    "print(\"purposecodes cleaned\")"
   ]
  },
  {
   "cell_type": "markdown",
   "metadata": {},
   "source": [
    "# Converting features / labels to vectors"
   ]
  },
  {
   "cell_type": "code",
   "execution_count": 27,
   "metadata": {},
   "outputs": [
    {
     "name": "stdout",
     "output_type": "stream",
     "text": [
      "Features shape: \n",
      "(5498, 111)\n",
      "Labels shape: \n",
      "(5498, 10)\n"
     ]
    }
   ],
   "source": [
    "#featurevectorizer = text.CountVectorizer(binary=True).fit(purposeCodes) # for using purposeCodes as the feature set\n",
    "featurevectorizer = text.CountVectorizer(binary=True).fit(spiderwords) # for using categories.json for feature set\n",
    "X = featurevectorizer.transform(purposeCodes)\n",
    "labelvectorizer = text.CountVectorizer(binary=True).fit(labels)\n",
    "y = labelvectorizer.transform(labels)\n",
    "X = X.todense()\n",
    "y = y.todense()\n",
    "print(\"Features shape: \")\n",
    "print(X.shape)\n",
    "print(\"Labels shape: \")\n",
    "print(y.shape)"
   ]
  },
  {
   "cell_type": "code",
   "execution_count": 28,
   "metadata": {},
   "outputs": [
    {
     "name": "stdout",
     "output_type": "stream",
     "text": [
      "Features of PC classify shape: \n",
      "(451082, 111)\n"
     ]
    }
   ],
   "source": [
    "X_classify = featurevectorizer.transform(purposeCodes_classify)\n",
    "print(\"Features of PC classify shape: \")\n",
    "X_classify = X_classify.todense()\n",
    "print(X_classify.shape)"
   ]
  },
  {
   "cell_type": "code",
   "execution_count": 29,
   "metadata": {},
   "outputs": [
    {
     "name": "stdout",
     "output_type": "stream",
     "text": [
      "['accounting', 'ad', 'admin', 'administrative', 'ads', 'advert', 'advertisement', 'advertising', 'adwords', 'air', 'airline', 'analytics', 'and', 'art', 'asset', 'bank', 'banking', 'banks', 'beverage', 'buy', 'calls', 'campaign', 'canvass', 'canvassing', 'cater', 'communications', 'compliance', 'consult', 'consultant', 'consultants', 'consulting', 'contact', 'costs', 'data', 'digital', 'direct', 'dissemination', 'door', 'email', 'estimate', 'expenses', 'facebook', 'fees', 'field', 'finance', 'food', 'for', 'from', 'fundraiser', 'fundraising', 'gas', 'google', 'gotv', 'hangers', 'in', 'internet', 'kind', 'law', 'lawyers', 'legal', 'list', 'mail', 'mailer', 'management', 'manager', 'media', 'news', 'newspaper', 'online', 'opinion', 'opposing', 'other', 'outbound', 'paper', 'phone', 'phones', 'piece', 'placement', 'polling', 'postage', 'postcards', 'printing', 'production', 'purchase', 'radio', 'refreshments', 'related', 'rental', 'research', 'retainer', 'salary', 'services', 'social', 'software', 'staff', 'supporting', 'survey', 'surveys', 'telecom', 'telemarket', 'telemarketing', 'telephone', 'television', 'to', 'trading', 'travel', 'tv', 'twitter', 'voter', 'web', 'words']\n"
     ]
    }
   ],
   "source": [
    "print(featurevectorizer.get_feature_names())"
   ]
  },
  {
   "cell_type": "markdown",
   "metadata": {},
   "source": [
    "# Defining Helper Class to generate Batch Sizes"
   ]
  },
  {
   "cell_type": "code",
   "execution_count": 30,
   "metadata": {},
   "outputs": [],
   "source": [
    "from sklearn.model_selection import train_test_split"
   ]
  },
  {
   "cell_type": "code",
   "execution_count": 31,
   "metadata": {},
   "outputs": [
    {
     "name": "stdout",
     "output_type": "stream",
     "text": [
      "X_train shape (3848, 111)\n",
      "y_train shape (3848, 10)\n",
      "X_test shape (1650, 111)\n",
      "y_test shape (1650, 10)\n"
     ]
    }
   ],
   "source": [
    "X_train, X_test, y_train, y_test = train_test_split(X, y, test_size=0.3)\n",
    "print(\"X_train shape \" + str(X_train.shape))\n",
    "print(\"y_train shape \" + str(y_train.shape))\n",
    "print(\"X_test shape \" + str(X_test.shape))\n",
    "print(\"y_test shape \" + str(y_test.shape))"
   ]
  },
  {
   "cell_type": "code",
   "execution_count": 32,
   "metadata": {},
   "outputs": [],
   "source": [
    "class BatchHelper():\n",
    "    \n",
    "    def __init__(self):\n",
    "        self.i = 0\n",
    "\n",
    "        self.training_phrases = None\n",
    "        self.training_labels = None\n",
    "        \n",
    "        self.testing_phrases = None\n",
    "        self.training_labels = None\n",
    "    \n",
    "    def set_up_images(self):\n",
    "        print (\"Setting Up Training Images and Labels\")\n",
    "        self.training_phrases = X_train\n",
    "        self.training_labels = y_train\n",
    "        \n",
    "        self.testing_phrases = X_test\n",
    "        self.testing_labels = y_test\n",
    "        \n",
    "    def next_batch(self, batch_size):\n",
    "        x = self.training_phrases[self.i: self.i + batch_size]\n",
    "        y = self.training_labels[self.i: self.i + batch_size]\n",
    "        self.i = (self.i + batch_size) % self.training_phrases.shape[0]\n",
    "        return x, y\n",
    "        "
   ]
  },
  {
   "cell_type": "code",
   "execution_count": 33,
   "metadata": {},
   "outputs": [
    {
     "name": "stdout",
     "output_type": "stream",
     "text": [
      "Setting Up Training Images and Labels\n"
     ]
    }
   ],
   "source": [
    "bh = BatchHelper()\n",
    "bh.set_up_images()"
   ]
  },
  {
   "cell_type": "code",
   "execution_count": 34,
   "metadata": {},
   "outputs": [
    {
     "name": "stdout",
     "output_type": "stream",
     "text": [
      "(100, 111)\n",
      "<class 'numpy.matrix'>\n",
      "(100, 10)\n",
      "<class 'numpy.matrix'>\n",
      "100\n"
     ]
    }
   ],
   "source": [
    "batch_features, batch_labels = bh.next_batch(100)\n",
    "print(batch_features.shape)\n",
    "print(type(batch_features))\n",
    "print(batch_labels.shape)\n",
    "print(type(batch_labels))\n",
    "print(bh.i)\n"
   ]
  },
  {
   "cell_type": "markdown",
   "metadata": {},
   "source": [
    "# Creating the model"
   ]
  },
  {
   "cell_type": "markdown",
   "metadata": {},
   "source": [
    "### Input data and labels"
   ]
  },
  {
   "cell_type": "code",
   "execution_count": 35,
   "metadata": {},
   "outputs": [],
   "source": [
    "x = tf.placeholder(tf.float32, shape = [None, X.shape[1]]) #3856\n",
    "y_true = tf.placeholder(tf.float32, shape = [None, 10])"
   ]
  },
  {
   "cell_type": "markdown",
   "metadata": {},
   "source": [
    "### Hold Probability (For Dropout Layer)"
   ]
  },
  {
   "cell_type": "code",
   "execution_count": 36,
   "metadata": {},
   "outputs": [],
   "source": [
    "hold_prob = tf.placeholder(tf.float32)"
   ]
  },
  {
   "cell_type": "markdown",
   "metadata": {},
   "source": [
    "# Helper Functions"
   ]
  },
  {
   "cell_type": "markdown",
   "metadata": {},
   "source": [
    "### Functions that create and perform operations of CNN"
   ]
  },
  {
   "cell_type": "code",
   "execution_count": 37,
   "metadata": {},
   "outputs": [],
   "source": [
    "# initializing an array of weights\n",
    "def init_weights(shape):\n",
    "    W = tf.truncated_normal(shape, stddev = 0.1)\n",
    "    return tf.Variable(W)"
   ]
  },
  {
   "cell_type": "code",
   "execution_count": 38,
   "metadata": {},
   "outputs": [],
   "source": [
    "# initializing an array of biases\n",
    "def init_bias(shape):\n",
    "    b = tf.constant(0.1, shape = shape)\n",
    "    return tf.Variable(b)"
   ]
  },
  {
   "cell_type": "code",
   "execution_count": 39,
   "metadata": {},
   "outputs": [],
   "source": [
    "# creating a regular DNN layer\n",
    "def normal_full_layer(input_layer, size):\n",
    "    input_size = int(input_layer.get_shape()[1])\n",
    "    W = init_weights([input_size, size])\n",
    "    b = init_bias([size])\n",
    "    return tf.matmul(input_layer, W) + b"
   ]
  },
  {
   "cell_type": "markdown",
   "metadata": {},
   "source": [
    "### Creating the Layers"
   ]
  },
  {
   "cell_type": "code",
   "execution_count": 40,
   "metadata": {},
   "outputs": [],
   "source": [
    "full_layer_1 = normal_full_layer(x, 256)\n",
    "full_layer_2 = normal_full_layer(full_layer_1, 256)\n",
    "full_layer_3 = normal_full_layer(full_layer_2, 128)\n",
    "#full_layer_4 = normal_full_layer(full_layer_3, 512)"
   ]
  },
  {
   "cell_type": "markdown",
   "metadata": {},
   "source": [
    "### Creating the dropout layer"
   ]
  },
  {
   "cell_type": "code",
   "execution_count": 41,
   "metadata": {},
   "outputs": [
    {
     "name": "stderr",
     "output_type": "stream",
     "text": [
      "WARNING: Logging before flag parsing goes to stderr.\n",
      "W0701 15:19:29.939625 16980 deprecation.py:506] From <ipython-input-41-2a82b07098d2>:1: calling dropout (from tensorflow.python.ops.nn_ops) with keep_prob is deprecated and will be removed in a future version.\n",
      "Instructions for updating:\n",
      "Please use `rate` instead of `keep_prob`. Rate should be set to `rate = 1 - keep_prob`.\n"
     ]
    }
   ],
   "source": [
    "full_one_dropout = tf.nn.dropout(full_layer_3, keep_prob = hold_prob)"
   ]
  },
  {
   "cell_type": "markdown",
   "metadata": {},
   "source": [
    "### The final full layer to get predictions"
   ]
  },
  {
   "cell_type": "code",
   "execution_count": 42,
   "metadata": {},
   "outputs": [],
   "source": [
    "y_pred = normal_full_layer(full_layer_2, y.shape[1])\n",
    "#y_pred = normal_full_layer(full_one_dropout, 10)"
   ]
  },
  {
   "cell_type": "markdown",
   "metadata": {},
   "source": [
    "# Defining Loss Functions"
   ]
  },
  {
   "cell_type": "code",
   "execution_count": 43,
   "metadata": {
    "scrolled": true
   },
   "outputs": [
    {
     "name": "stderr",
     "output_type": "stream",
     "text": [
      "W0701 15:19:30.004307 16980 deprecation.py:323] From <ipython-input-43-de34d8b053ce>:1: softmax_cross_entropy_with_logits (from tensorflow.python.ops.nn_ops) is deprecated and will be removed in a future version.\n",
      "Instructions for updating:\n",
      "\n",
      "Future major versions of TensorFlow will allow gradients to flow\n",
      "into the labels input on backprop by default.\n",
      "\n",
      "See `tf.nn.softmax_cross_entropy_with_logits_v2`.\n",
      "\n"
     ]
    }
   ],
   "source": [
    "cross_entropy = tf.reduce_mean(tf.nn.softmax_cross_entropy_with_logits(labels=y_true, logits=y_pred))"
   ]
  },
  {
   "cell_type": "markdown",
   "metadata": {},
   "source": [
    "### Making the Optimizer"
   ]
  },
  {
   "cell_type": "code",
   "execution_count": 44,
   "metadata": {},
   "outputs": [],
   "source": [
    "optimizer = tf.train.AdamOptimizer(learning_rate = 0.00005)\n",
    "train = optimizer.minimize(cross_entropy)"
   ]
  },
  {
   "cell_type": "markdown",
   "metadata": {},
   "source": [
    "### Creating Global Variables Initializer"
   ]
  },
  {
   "cell_type": "code",
   "execution_count": 45,
   "metadata": {},
   "outputs": [],
   "source": [
    "init = tf.global_variables_initializer()"
   ]
  },
  {
   "cell_type": "markdown",
   "metadata": {},
   "source": [
    "# Training the Model"
   ]
  },
  {
   "cell_type": "code",
   "execution_count": 46,
   "metadata": {},
   "outputs": [
    {
     "name": "stdout",
     "output_type": "stream",
     "text": [
      "Setting Up Training Images and Labels\n",
      "Currently on step 0\n",
      "Accuracy is:\n",
      "0.33575758\n",
      "\n",
      "\n",
      "Currently on step 20\n",
      "Accuracy is:\n",
      "0.41454545\n",
      "\n",
      "\n",
      "Currently on step 40\n",
      "Accuracy is:\n",
      "0.41878787\n",
      "\n",
      "\n",
      "Currently on step 60\n",
      "Accuracy is:\n",
      "0.42242426\n",
      "\n",
      "\n",
      "Currently on step 80\n",
      "Accuracy is:\n",
      "0.4339394\n",
      "\n",
      "\n",
      "Currently on step 100\n",
      "Accuracy is:\n",
      "0.44\n",
      "\n",
      "\n",
      "Currently on step 120\n",
      "Accuracy is:\n",
      "0.46848485\n",
      "\n",
      "\n",
      "Currently on step 140\n",
      "Accuracy is:\n",
      "0.51272726\n",
      "\n",
      "\n",
      "Currently on step 160\n",
      "Accuracy is:\n",
      "0.54\n",
      "\n",
      "\n",
      "Currently on step 180\n",
      "Accuracy is:\n",
      "0.5660606\n",
      "\n",
      "\n",
      "Currently on step 200\n",
      "Accuracy is:\n",
      "0.6\n",
      "\n",
      "\n",
      "Currently on step 220\n",
      "Accuracy is:\n",
      "0.60545456\n",
      "\n",
      "\n",
      "Currently on step 240\n",
      "Accuracy is:\n",
      "0.6139394\n",
      "\n",
      "\n",
      "Currently on step 260\n",
      "Accuracy is:\n",
      "0.62545455\n",
      "\n",
      "\n",
      "Currently on step 280\n",
      "Accuracy is:\n",
      "0.64787877\n",
      "\n",
      "\n",
      "Currently on step 300\n",
      "Accuracy is:\n",
      "0.6569697\n",
      "\n",
      "\n",
      "Currently on step 320\n",
      "Accuracy is:\n",
      "0.6587879\n",
      "\n",
      "\n",
      "Currently on step 340\n",
      "Accuracy is:\n",
      "0.66727275\n",
      "\n",
      "\n",
      "Currently on step 360\n",
      "Accuracy is:\n",
      "0.6830303\n",
      "\n",
      "\n",
      "Currently on step 380\n",
      "Accuracy is:\n",
      "0.6872727\n",
      "\n",
      "\n",
      "Currently on step 400\n",
      "Accuracy is:\n",
      "0.6860606\n",
      "\n",
      "\n",
      "Currently on step 420\n",
      "Accuracy is:\n",
      "0.6909091\n",
      "\n",
      "\n",
      "Currently on step 440\n",
      "Accuracy is:\n",
      "0.6951515\n",
      "\n",
      "\n",
      "Currently on step 460\n",
      "Accuracy is:\n",
      "0.6969697\n",
      "\n",
      "\n",
      "Currently on step 480\n",
      "Accuracy is:\n",
      "0.6969697\n",
      "\n",
      "\n",
      "Currently on step 500\n",
      "Accuracy is:\n",
      "0.70181817\n",
      "\n",
      "\n",
      "Currently on step 520\n",
      "Accuracy is:\n",
      "0.71090907\n",
      "\n",
      "\n",
      "Currently on step 540\n",
      "Accuracy is:\n",
      "0.7084848\n",
      "\n",
      "\n",
      "Currently on step 560\n",
      "Accuracy is:\n",
      "0.70484847\n",
      "\n",
      "\n",
      "Currently on step 580\n",
      "Accuracy is:\n",
      "0.73636365\n",
      "\n",
      "\n",
      "Currently on step 600\n",
      "Accuracy is:\n",
      "0.7381818\n",
      "\n",
      "\n",
      "Currently on step 620\n",
      "Accuracy is:\n",
      "0.7369697\n",
      "\n",
      "\n",
      "Currently on step 640\n",
      "Accuracy is:\n",
      "0.73757577\n",
      "\n",
      "\n",
      "Currently on step 660\n",
      "Accuracy is:\n",
      "0.7381818\n",
      "\n",
      "\n",
      "Currently on step 680\n",
      "Accuracy is:\n",
      "0.7387879\n",
      "\n",
      "\n",
      "Currently on step 700\n",
      "Accuracy is:\n",
      "0.7418182\n",
      "\n",
      "\n",
      "Currently on step 720\n",
      "Accuracy is:\n",
      "0.7418182\n",
      "\n",
      "\n",
      "Currently on step 740\n",
      "Accuracy is:\n",
      "0.7418182\n",
      "\n",
      "\n",
      "Currently on step 760\n",
      "Accuracy is:\n",
      "0.74363637\n",
      "\n",
      "\n",
      "Currently on step 780\n",
      "Accuracy is:\n",
      "0.74363637\n",
      "\n",
      "\n",
      "Currently on step 800\n",
      "Accuracy is:\n",
      "0.7460606\n",
      "\n",
      "\n",
      "Currently on step 820\n",
      "Accuracy is:\n",
      "0.74545455\n",
      "\n",
      "\n",
      "Currently on step 840\n",
      "Accuracy is:\n",
      "0.7490909\n",
      "\n",
      "\n",
      "Currently on step 860\n",
      "Accuracy is:\n",
      "0.74969697\n",
      "\n",
      "\n",
      "Currently on step 880\n",
      "Accuracy is:\n",
      "0.7490909\n",
      "\n",
      "\n",
      "Currently on step 900\n",
      "Accuracy is:\n",
      "0.74969697\n",
      "\n",
      "\n",
      "Currently on step 920\n",
      "Accuracy is:\n",
      "0.7490909\n",
      "\n",
      "\n",
      "Currently on step 940\n",
      "Accuracy is:\n",
      "0.74969697\n",
      "\n",
      "\n",
      "Currently on step 960\n",
      "Accuracy is:\n",
      "0.7490909\n",
      "\n",
      "\n",
      "Currently on step 980\n",
      "Accuracy is:\n",
      "0.7490909\n",
      "\n",
      "\n",
      "Currently on step 1000\n",
      "Accuracy is:\n",
      "0.75030303\n",
      "\n",
      "\n",
      "Currently on step 1020\n",
      "Accuracy is:\n",
      "0.75030303\n",
      "\n",
      "\n",
      "Currently on step 1040\n",
      "Accuracy is:\n",
      "0.7490909\n",
      "\n",
      "\n",
      "Currently on step 1060\n",
      "Accuracy is:\n",
      "0.75030303\n",
      "\n",
      "\n",
      "Currently on step 1080\n",
      "Accuracy is:\n",
      "0.74969697\n",
      "\n",
      "\n",
      "Currently on step 1100\n",
      "Accuracy is:\n",
      "0.74969697\n",
      "\n",
      "\n",
      "Currently on step 1120\n",
      "Accuracy is:\n",
      "0.75030303\n",
      "\n",
      "\n",
      "Currently on step 1140\n",
      "Accuracy is:\n",
      "0.7490909\n",
      "\n",
      "\n",
      "Currently on step 1160\n",
      "Accuracy is:\n",
      "0.75030303\n",
      "\n",
      "\n",
      "Currently on step 1180\n",
      "Accuracy is:\n",
      "0.75030303\n",
      "\n",
      "\n",
      "Currently on step 1200\n",
      "Accuracy is:\n",
      "0.75030303\n",
      "\n",
      "\n",
      "Currently on step 1220\n",
      "Accuracy is:\n",
      "0.7521212\n",
      "\n",
      "\n",
      "Currently on step 1240\n",
      "Accuracy is:\n",
      "0.74969697\n",
      "\n",
      "\n",
      "Currently on step 1260\n",
      "Accuracy is:\n",
      "0.75030303\n",
      "\n",
      "\n",
      "Currently on step 1280\n",
      "Accuracy is:\n",
      "0.7490909\n",
      "\n",
      "\n",
      "Currently on step 1300\n",
      "Accuracy is:\n",
      "0.7509091\n",
      "\n",
      "\n",
      "Currently on step 1320\n",
      "Accuracy is:\n",
      "0.75151515\n",
      "\n",
      "\n",
      "Currently on step 1340\n",
      "Accuracy is:\n",
      "0.75333333\n",
      "\n",
      "\n",
      "Currently on step 1360\n",
      "Accuracy is:\n",
      "0.75151515\n",
      "\n",
      "\n",
      "Currently on step 1380\n",
      "Accuracy is:\n",
      "0.7521212\n",
      "\n",
      "\n",
      "Currently on step 1400\n",
      "Accuracy is:\n",
      "0.7521212\n",
      "\n",
      "\n",
      "Currently on step 1420\n",
      "Accuracy is:\n",
      "0.7509091\n",
      "\n",
      "\n",
      "Currently on step 1440\n",
      "Accuracy is:\n",
      "0.7521212\n",
      "\n",
      "\n",
      "Currently on step 1460\n",
      "Accuracy is:\n",
      "0.75333333\n",
      "\n",
      "\n",
      "Currently on step 1480\n",
      "Accuracy is:\n",
      "0.75333333\n",
      "\n",
      "\n",
      "Currently on step 1500\n",
      "Accuracy is:\n",
      "0.7509091\n",
      "\n",
      "\n",
      "Currently on step 1520\n",
      "Accuracy is:\n",
      "0.75333333\n",
      "\n",
      "\n",
      "Currently on step 1540\n",
      "Accuracy is:\n",
      "0.75333333\n",
      "\n",
      "\n",
      "Currently on step 1560\n",
      "Accuracy is:\n",
      "0.7551515\n",
      "\n",
      "\n",
      "Currently on step 1580\n",
      "Accuracy is:\n",
      "0.7539394\n",
      "\n",
      "\n",
      "Currently on step 1600\n",
      "Accuracy is:\n",
      "0.75272727\n",
      "\n",
      "\n",
      "Currently on step 1620\n",
      "Accuracy is:\n",
      "0.7569697\n",
      "\n",
      "\n",
      "Currently on step 1640\n",
      "Accuracy is:\n",
      "0.75333333\n",
      "\n",
      "\n",
      "Currently on step 1660\n",
      "Accuracy is:\n",
      "0.7557576\n",
      "\n",
      "\n",
      "Currently on step 1680\n",
      "Accuracy is:\n",
      "0.7557576\n",
      "\n",
      "\n",
      "Currently on step 1700\n",
      "Accuracy is:\n",
      "0.75757575\n",
      "\n",
      "\n",
      "Currently on step 1720\n",
      "Accuracy is:\n",
      "0.75454545\n",
      "\n",
      "\n",
      "Currently on step 1740\n",
      "Accuracy is:\n",
      "0.7569697\n",
      "\n",
      "\n",
      "Currently on step 1760\n",
      "Accuracy is:\n",
      "0.7551515\n",
      "\n",
      "\n",
      "Currently on step 1780\n",
      "Accuracy is:\n",
      "0.7587879\n",
      "\n",
      "\n",
      "Classifying entire data\n",
      "Classification done\n"
     ]
    }
   ],
   "source": [
    "steps = 1800\n",
    "accuracy = []\n",
    "\n",
    "with tf.Session() as sess:\n",
    "    \n",
    "    sess.run(init)\n",
    "    \n",
    "    bh = BatchHelper()\n",
    "    bh.set_up_images()\n",
    "    \n",
    "    for i in range (steps):\n",
    "        batch_x, batch_y = bh.next_batch(50)\n",
    "        sess.run (train, feed_dict = {x: batch_x, y_true: batch_y, hold_prob: 1})\n",
    "        \n",
    "        if ((i%20 == 0)):\n",
    "            print('Currently on step {}'.format(i))\n",
    "            print('Accuracy is:')\n",
    "            \n",
    "            matches = tf.equal(tf.argmax(y_pred,1),tf.argmax(y_true,1))\n",
    "            \n",
    "            acc = tf.reduce_mean(tf.cast(matches,tf.float32))\n",
    "            #temp = sess.run(acc, feed_dict = {x:batch_x, y_true: batch_y, hold_prob:1.0})\n",
    "            temp = sess.run(acc,feed_dict={x: X_test, y_true: y_test ,hold_prob:1.0})\n",
    "            accuracy.append(temp)\n",
    "            print(temp)\n",
    "            print('\\n')\n",
    "            \n",
    "    print(\"Classifying entire data\")\n",
    "    classifications = tf.argmax(y_pred, 1)\n",
    "    PC_classifications = sess.run(classifications, feed_dict = {x: X_classify, y_true: y_test, hold_prob: 1.0})\n",
    "    print(\"Classification done\")\n",
    "            "
   ]
  },
  {
   "cell_type": "markdown",
   "metadata": {},
   "source": [
    "# Training Analysis"
   ]
  },
  {
   "cell_type": "code",
   "execution_count": 47,
   "metadata": {},
   "outputs": [
    {
     "name": "stdout",
     "output_type": "stream",
     "text": [
      "Final accuracy:  0.7587879\n"
     ]
    },
    {
     "data": {
      "image/png": "[encoded data removed]",
      "text/plain": [
       "<Figure size 432x288 with 1 Axes>"
      ]
     },
     "metadata": {
      "needs_background": "light"
     },
     "output_type": "display_data"
    }
   ],
   "source": [
    "plt.plot(accuracy)\n",
    "plt.title(\"Accuracy vs Batch\")\n",
    "plt.ylim(0.7, 1)\n",
    "print(\"Final accuracy: \", accuracy[-1])"
   ]
  },
  {
   "cell_type": "markdown",
   "metadata": {},
   "source": [
    "# PC Classification Analysis"
   ]
  },
  {
   "cell_type": "code",
   "execution_count": 48,
   "metadata": {},
   "outputs": [
    {
     "name": "stdout",
     "output_type": "stream",
     "text": [
      "Output shape\n",
      "(451082,)\n"
     ]
    }
   ],
   "source": [
    "print(\"Output shape\")\n",
    "print(PC_classifications.shape)"
   ]
  },
  {
   "cell_type": "markdown",
   "metadata": {},
   "source": [
    "### Converting int outputs to string"
   ]
  },
  {
   "cell_type": "code",
   "execution_count": 49,
   "metadata": {},
   "outputs": [],
   "source": [
    "PC_stringClassifications = []\n",
    "categories = labelvectorizer.get_feature_names()\n",
    "for x in PC_classifications:\n",
    "    PC_stringClassifications.append(categories[x])"
   ]
  },
  {
   "cell_type": "markdown",
   "metadata": {},
   "source": [
    "### Adding string labelings to dataframe then exporting to csv"
   ]
  },
  {
   "cell_type": "code",
   "execution_count": 50,
   "metadata": {},
   "outputs": [],
   "source": [
    "df_classify[\"neural network (fully trained)\"] = PC_stringClassifications\n",
    "df_classify.to_csv(\"purpose10_18_nn3.csv\")"
   ]
  },
  {
   "cell_type": "code",
   "execution_count": null,
   "metadata": {},
   "outputs": [],
   "source": []
  }
 ],
 "metadata": {
  "kernelspec": {
   "display_name": "Python 3",
   "language": "python",
   "name": "python3"
  },
  "language_info": {
   "codemirror_mode": {
    "name": "ipython",
    "version": 3
   },
   "file_extension": ".py",
   "mimetype": "text/x-python",
   "name": "python",
   "nbconvert_exporter": "python",
   "pygments_lexer": "ipython3",
   "version": "3.7.3"
  }
 },
 "nbformat": 4,
 "nbformat_minor": 2
}
